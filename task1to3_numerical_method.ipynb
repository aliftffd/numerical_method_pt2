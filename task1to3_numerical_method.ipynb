{
 "cells": [
  {
   "cell_type": "code",
   "execution_count": 2,
   "id": "ca2452ee-0a21-477b-80db-7527b9dc58b1",
   "metadata": {},
   "outputs": [],
   "source": [
    "import numpy as np\n",
    "from scipy.optimize import fsolve, brentq\n",
    "from scipy.linalg import lu\n",
    "import matplotlib.pyplot as plt\n",
    "import pandas as pd \n",
    "import seaborn as sns \n",
    "from math import sin,cos,pi \n",
    "from numpy.linalg import lstsq"
   ]
  },
  {
   "cell_type": "markdown",
   "id": "9bba51ef-13cd-4bb1-bfb6-137567e04d2c",
   "metadata": {},
   "source": [
    "## 🧩 Task 1: Root-Finding — Solving for Incident Angle \\( \\theta \\)\n",
    "\n",
    "In this task, we estimate the angle of incidence \\( \\theta \\) from radar phase data using the **Newton-Raphson method**.\n",
    "\n",
    "### ⚙️ Method:\n",
    "- **Newton-Raphson algorithm**\n",
    "- Initial guess: within \\([-1.0, 0.0]\\)\n",
    "- Tolerance: \\(10^{-6}\\)\n",
    "- True root: \\(-0.523598826\\)\n",
    "\n",
    "### ✅ Output:\n",
    "- Rapid convergence within 5 iterations.\n",
    "- Final root matches the true value with high accuracy.\n",
    "- Error tracking table shows decreasing residuals.\n"
   ]
  },
  {
   "cell_type": "code",
   "execution_count": 26,
   "id": "6ca33ff9-8024-46e2-b9fe-b5ad8468674a",
   "metadata": {},
   "outputs": [],
   "source": [
    "def radar_func(theta,C): \n",
    "    \"\"\"\n",
    "    Menghitung nilai fungsi untuk akar interpretasi dari radar. \n",
    "    \n",
    "    Persamaan f(theta) = C * sin(theta) + pi = 0,\n",
    "    dimana C = lambda * R / (4 * pi * ht * hr).\n",
    "    \"\"\"\n",
    "    return C * np.sin(theta) + np.pi \n",
    "def df_radar_func(theta): \n",
    "    return C * cos(theta) "
   ]
  },
  {
   "cell_type": "code",
   "execution_count": 33,
   "id": "89f14c51-4ee3-4f19-9b80-3a349dadebf0",
   "metadata": {},
   "outputs": [],
   "source": [
    "C = 2 * np.pi \n",
    "a_interval = -1.0 \n",
    "b_interval = 0.0 \n",
    "\n",
    "tolerance = 1e-6 \n",
    "max_iterations = 100 \n",
    "true_root = -0.523598826"
   ]
  },
  {
   "cell_type": "code",
   "execution_count": 34,
   "id": "5bc65765-122d-43be-a09d-664ee5985536",
   "metadata": {},
   "outputs": [],
   "source": [
    "def table_open(iterates): \n",
    "    rows = [] \n",
    "    for i, x in enumerate(iterates): \n",
    "        if i == 0: \n",
    "            approx_error = None \n",
    "        else: \n",
    "            approx_error = abs(iterates[i]-iterates[i-1]) / abs(iterates[i]) * 100 \n",
    "        true_error = abs(x - true_root) / abs(true_root) * 100 \n",
    "        rows.append({\n",
    "            \"Iteration\" : i, \n",
    "            \"x\" : x, \n",
    "            \"error_a (%)\" : approx_error,\n",
    "            \"error_t (&)\" : true_error\n",
    "        })\n",
    "    return rows "
   ]
  },
  {
   "cell_type": "code",
   "execution_count": 35,
   "id": "7a59570f-2c64-4262-9203-8ed9b743f5b3",
   "metadata": {},
   "outputs": [],
   "source": [
    "def newton_raphson(x0): \n",
    "    iterates = [x0]\n",
    "    for i in range(max_iterations): \n",
    "        f_val = radar_func(iterates[-1],C)\n",
    "        df_val = df_radar_func(iterates[-1]) \n",
    "        if df_val == 0: \n",
    "            raise ZeroDivisionError(\"Turunan sama dengan 0\") \n",
    "        x_new = iterates[-1] - f_val / df_val \n",
    "        iterates.append(x_new)\n",
    "        if abs(radar_func(x_new,C)) < tolerance or abs(x_new - iterates[-2]) < tolerance: \n",
    "            break\n",
    "    return iterates "
   ]
  },
  {
   "cell_type": "code",
   "execution_count": 36,
   "id": "0772f1ce-15c1-4b18-8436-e5373792b6d1",
   "metadata": {},
   "outputs": [],
   "source": [
    "x0_newton = 0.73 \n",
    "iters_newton = newton_raphson(x0_newton) \n",
    "table_newton = table_open(iters_newton) \n",
    "df_newton = pd.DataFrame(table_newton) "
   ]
  },
  {
   "cell_type": "code",
   "execution_count": 37,
   "id": "a6016af0-21d0-4741-a5e4-18c28c975e30",
   "metadata": {},
   "outputs": [
    {
     "data": {
      "text/html": [
       "<div>\n",
       "<style scoped>\n",
       "    .dataframe tbody tr th:only-of-type {\n",
       "        vertical-align: middle;\n",
       "    }\n",
       "\n",
       "    .dataframe tbody tr th {\n",
       "        vertical-align: top;\n",
       "    }\n",
       "\n",
       "    .dataframe thead th {\n",
       "        text-align: right;\n",
       "    }\n",
       "</style>\n",
       "<table border=\"1\" class=\"dataframe\">\n",
       "  <thead>\n",
       "    <tr style=\"text-align: right;\">\n",
       "      <th></th>\n",
       "      <th>Iteration</th>\n",
       "      <th>x</th>\n",
       "      <th>error_a (%)</th>\n",
       "      <th>error_t (&amp;)</th>\n",
       "    </tr>\n",
       "  </thead>\n",
       "  <tbody>\n",
       "    <tr>\n",
       "      <th>0</th>\n",
       "      <td>0</td>\n",
       "      <td>0.730000</td>\n",
       "      <td>NaN</td>\n",
       "      <td>239.419717</td>\n",
       "    </tr>\n",
       "    <tr>\n",
       "      <th>1</th>\n",
       "      <td>1</td>\n",
       "      <td>-0.835901</td>\n",
       "      <td>187.330875</td>\n",
       "      <td>59.645391</td>\n",
       "    </tr>\n",
       "    <tr>\n",
       "      <th>2</th>\n",
       "      <td>2</td>\n",
       "      <td>-0.475129</td>\n",
       "      <td>75.931458</td>\n",
       "      <td>9.257052</td>\n",
       "    </tr>\n",
       "    <tr>\n",
       "      <th>3</th>\n",
       "      <td>3</td>\n",
       "      <td>-0.522976</td>\n",
       "      <td>9.148920</td>\n",
       "      <td>0.119021</td>\n",
       "    </tr>\n",
       "    <tr>\n",
       "      <th>4</th>\n",
       "      <td>4</td>\n",
       "      <td>-0.523599</td>\n",
       "      <td>0.118990</td>\n",
       "      <td>0.000031</td>\n",
       "    </tr>\n",
       "  </tbody>\n",
       "</table>\n",
       "</div>"
      ],
      "text/plain": [
       "   Iteration         x  error_a (%)  error_t (&)\n",
       "0          0  0.730000          NaN   239.419717\n",
       "1          1 -0.835901   187.330875    59.645391\n",
       "2          2 -0.475129    75.931458     9.257052\n",
       "3          3 -0.522976     9.148920     0.119021\n",
       "4          4 -0.523599     0.118990     0.000031"
      ]
     },
     "metadata": {},
     "output_type": "display_data"
    }
   ],
   "source": [
    "display(df_newton) "
   ]
  },
  {
   "cell_type": "markdown",
   "id": "6f2afd0d-326e-4ce0-9365-108e83cee06f",
   "metadata": {},
   "source": [
    "## 🧮 Task 2: Solving Linear System — Extracting Path Delays\n",
    "\n",
    "Here, we solve for signal path delays τ  using a system of equations derived from radar multipath signal components.\n",
    "\n",
    "    Solves the linear system Ax = b using the Gauss-Seidel iterative method,\n",
    "    tracking iteration history and approximate error.\n",
    "\n",
    "    Args:\n",
    "        A (numpy.ndarray): The coefficient matrix.\n",
    "        b (numpy.ndarray): The constant vector.\n",
    "        x_init (numpy.ndarray): The initial guess for the solution vector.\n",
    "        max_iterations (int): The maximum number of iterations allowed.\n",
    "        tolerance (float): The convergence tolerance based on max absolute change.\n",
    "\n",
    "    Returns:\n",
    "        tuple: A tuple containing:\n",
    "            - solution (numpy.ndarray): The computed solution vector.\n",
    "            - iterations_completed (int): The number of iterations performed.\n",
    "            - combined_df (pandas.DataFrame): DataFrame tracking x values and\n",
    "                                              approximate error per iteration.\n",
    "\n",
    "    Raises:\n",
    "        ValueError: If matrix A is not square or dimensions mismatch.\n",
    "        ZeroDivisionError: If a zero diagonal element is encountered."
   ]
  },
  {
   "cell_type": "code",
   "execution_count": 39,
   "id": "29d1c9c0-bddc-421e-b03d-bd41953dad44",
   "metadata": {},
   "outputs": [],
   "source": [
    "#Function for checking, is matrix diagonallay dominant \n",
    "\n",
    "def check_diaDom(A): \n",
    "    n = len(A) \n",
    "    for i in range (n): \n",
    "        diag_val = abs(A[i][i]) #Get absoulute value for diagonal element \n",
    "        row_sum = sum(abs(A[i][j]) for j in range(n) if j != i) \n",
    "    if diag_val < row_sum:\n",
    "        #Not diagnallay dominant \n",
    "        return False \n",
    "    return True "
   ]
  },
  {
   "cell_type": "code",
   "execution_count": null,
   "id": "f8b62079-4383-4d99-8e81-57691beb373a",
   "metadata": {},
   "outputs": [],
   "source": [
    "def GS_method(A, b, x_init, max_iterations=100, tolerance=1e-10):\n",
    "    n = len(A) \n",
    "\n",
    "    if A.shape[0] != n or A.shape[1] != n: \n",
    "        raise ValueError(\"Matrix must be in square\") \n",
    "    if b.shape[0] != n:\n",
    "        raise ValueError(\"Vector b must have the same number of rows as matrix A\") \n",
    "    if x_init.shape[0] != n: \n",
    "        raise ValueError"
   ]
  },
  {
   "cell_type": "code",
   "execution_count": null,
   "id": "4a697567-f6e5-4e84-8b83-134496932d4a",
   "metadata": {},
   "outputs": [],
   "source": []
  }
 ],
 "metadata": {
  "kernelspec": {
   "display_name": "Python 3 (ipykernel)",
   "language": "python",
   "name": "python3"
  },
  "language_info": {
   "codemirror_mode": {
    "name": "ipython",
    "version": 3
   },
   "file_extension": ".py",
   "mimetype": "text/x-python",
   "name": "python",
   "nbconvert_exporter": "python",
   "pygments_lexer": "ipython3",
   "version": "3.13.2"
  }
 },
 "nbformat": 4,
 "nbformat_minor": 5
}
